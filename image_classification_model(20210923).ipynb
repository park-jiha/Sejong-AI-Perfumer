{
  "nbformat": 4,
  "nbformat_minor": 0,
  "metadata": {
    "colab": {
      "name": "image classification model (팀 공유).ipynb",
      "provenance": [],
      "collapsed_sections": [
        "OE0D2_e8_7f9"
      ]
    },
    "kernelspec": {
      "name": "python3",
      "display_name": "Python 3"
    },
    "language_info": {
      "name": "python"
    },
    "accelerator": "GPU"
  },
  "cells": [
    {
      "cell_type": "markdown",
      "metadata": {
        "id": "zYCY0sqFso7L"
      },
      "source": [
        "## Transfer Learning 모델 학습 (모델 저장되어있으니 안돌려도 되용!)"
      ]
    },
    {
      "cell_type": "code",
      "metadata": {
        "id": "cp6qZ-rgsJzA"
      },
      "source": [
        "import torch\n",
        "import os\n",
        " \n",
        "USE_CUDA = torch.cuda.is_available()\n",
        "DEVICE = torch.device(\"cuda\" if USE_CUDA else \"cpu\") \n",
        "\n",
        "BATCH_SIZE = 256 \n",
        "EPOCH = 10"
      ],
      "execution_count": 18,
      "outputs": []
    },
    {
      "cell_type": "code",
      "metadata": {
        "id": "ucURIVBmsnmC"
      },
      "source": [
        "import torchvision.transforms as transforms \n",
        "\n",
        "data_transforms = {\n",
        "    'train': transforms.Compose([transforms.Resize([64,64]), #resnet 입력 사이즈가 64여서 우선 이렇게 맞춤!\n",
        "                                 transforms.ToTensor(), \n",
        "                                 transforms.Normalize([0.485, 0.456, 0.406], [0.229, 0.224, 0.225]) ]),\n",
        "    \n",
        "    'val': transforms.Compose([transforms.Resize([64,64]),  \n",
        "                               transforms.ToTensor(),\n",
        "                               transforms.Normalize([0.485, 0.456, 0.406], [0.229, 0.224, 0.225]) ])\n",
        "     }"
      ],
      "execution_count": 19,
      "outputs": []
    },
    {
      "cell_type": "code",
      "metadata": {
        "colab": {
          "base_uri": "https://localhost:8080/"
        },
        "id": "STs5oRi2sy12",
        "outputId": "84112edb-6ffa-4924-f0c2-4c769a8a8ea5"
      },
      "source": [
        "from torchvision.datasets import ImageFolder\n",
        "from torch.utils.data import DataLoader\n",
        "\n",
        "data_dir = '/content/drive/MyDrive/smarcle_face_dataset/splitted' \n",
        "\n",
        "image_datasets = {x: ImageFolder(root=os.path.join(data_dir, x), transform=data_transforms[x]) for x in ['train', 'val']} \n",
        "dataloaders = {x: torch.utils.data.DataLoader(image_datasets[x], batch_size=BATCH_SIZE, shuffle=True, num_workers=4) for x in ['train', 'val']} \n",
        "dataset_sizes = {x: len(image_datasets[x]) for x in ['train', 'val']}\n",
        "\n",
        "class_names = image_datasets['train'].classes\n",
        "class_names"
      ],
      "execution_count": 20,
      "outputs": [
        {
          "output_type": "stream",
          "name": "stderr",
          "text": [
            "/usr/local/lib/python3.7/dist-packages/torch/utils/data/dataloader.py:481: UserWarning: This DataLoader will create 4 worker processes in total. Our suggested max number of worker in current system is 2, which is smaller than what this DataLoader is going to create. Please be aware that excessive worker creation might get DataLoader running slow or even freeze, lower the worker number to avoid potential slowness/freeze if necessary.\n",
            "  cpuset_checked))\n"
          ]
        },
        {
          "output_type": "execute_result",
          "data": {
            "text/plain": [
              "['female_active',\n",
              " 'female_clean',\n",
              " 'female_cute',\n",
              " 'female_elegant',\n",
              " 'female_natural',\n",
              " 'female_sexy',\n",
              " 'male_active',\n",
              " 'male_clean',\n",
              " 'male_cute',\n",
              " 'male_elegant',\n",
              " 'male_natural',\n",
              " 'male_sexy']"
            ]
          },
          "metadata": {},
          "execution_count": 20
        }
      ]
    },
    {
      "cell_type": "code",
      "metadata": {
        "id": "wZEFZgmTs2Vt"
      },
      "source": [
        "# 전이학습 모델 불러오기 (지금은 resnet50 -> 다른거 뭘로 바꿀지를 알아봐야 함)\n",
        "import torch.nn as nn\n",
        "import torch.optim as optim\n",
        "from torchvision import models\n",
        " \n",
        "resnet = models.resnet50(pretrained=True)  \n",
        "num_ftrs = resnet.fc.in_features   \n",
        "resnet.fc = nn.Linear(num_ftrs, 12) #우리는 12개의 CLASS이므로 이렇게 고쳐주어야 함!! \n",
        "resnet = resnet.to(DEVICE)\n",
        " \n",
        "criterion = nn.CrossEntropyLoss() \n",
        "optimizer_ft = optim.Adam(filter(lambda p: p.requires_grad, resnet.parameters()), lr=0.001)\n",
        " \n",
        "from torch.optim import lr_scheduler\n",
        "exp_lr_scheduler = lr_scheduler.StepLR(optimizer_ft, step_size=7, gamma=0.1)"
      ],
      "execution_count": 21,
      "outputs": []
    },
    {
      "cell_type": "code",
      "metadata": {
        "id": "2wf8IIPgs3vs"
      },
      "source": [
        "# 전이학습 모델의 일부 레이어 Freeze\n",
        "ct = 0 \n",
        "for child in resnet.children():  \n",
        "    ct += 1  \n",
        "    if ct < 6: \n",
        "        for param in child.parameters():\n",
        "            param.requires_grad = False"
      ],
      "execution_count": 22,
      "outputs": []
    },
    {
      "cell_type": "code",
      "metadata": {
        "id": "tXFjVMs3s5Jv"
      },
      "source": [
        "# 전이학습 모델 학습 및 검증\n",
        "import time\n",
        "import copy\n",
        "\n",
        "def train_resnet(model, criterion, optimizer, scheduler, num_epochs=25):\n",
        "\n",
        "    best_model_wts = copy.deepcopy(model.state_dict())  \n",
        "    best_acc = 0.0  \n",
        "    \n",
        "    for epoch in range(num_epochs):\n",
        "        print('-------------- epoch {} ----------------'.format(epoch+1)) \n",
        "        since = time.time()                                     \n",
        "        for phase in ['train', 'val']: \n",
        "            if phase == 'train': \n",
        "                model.train() \n",
        "            else:\n",
        "                model.eval()     \n",
        " \n",
        "            running_loss = 0.0  \n",
        "            running_corrects = 0  \n",
        " \n",
        "            \n",
        "            for inputs, labels in dataloaders[phase]: \n",
        "                inputs = inputs.to(DEVICE)  \n",
        "                labels = labels.to(DEVICE)  \n",
        "                \n",
        "                optimizer.zero_grad() \n",
        "                \n",
        "                with torch.set_grad_enabled(phase == 'train'):  \n",
        "                    outputs = model(inputs)  \n",
        "                    _, preds = torch.max(outputs, 1) \n",
        "                    loss = criterion(outputs, labels)  \n",
        "    \n",
        "                    if phase == 'train':   \n",
        "                        loss.backward()\n",
        "                        optimizer.step()\n",
        " \n",
        "                running_loss += loss.item() * inputs.size(0)  \n",
        "                running_corrects += torch.sum(preds == labels.data)  \n",
        "            if phase == 'train':  \n",
        "                scheduler.step()\n",
        " \n",
        "            epoch_loss = running_loss/dataset_sizes[phase]  \n",
        "            epoch_acc = running_corrects.double()/dataset_sizes[phase]  \n",
        " \n",
        "            print('{} Loss: {:.4f} Acc: {:f}%'.format(phase, epoch_loss, epoch_acc)) \n",
        " \n",
        "          \n",
        "            if phase == 'val' and epoch_acc > best_acc: \n",
        "                best_acc = epoch_acc\n",
        "                best_model_wts = copy.deepcopy(model.state_dict())\n",
        " \n",
        "        time_elapsed = time.time() - since  \n",
        "        print('Completed in {:.0f}m {:.0f}s'.format(time_elapsed // 60, time_elapsed % 60))\n",
        "\n",
        "    print('Best val Acc: {:f}%'.format(best_acc))\n",
        "    model.load_state_dict(best_model_wts) \n",
        "\n",
        "    return model"
      ],
      "execution_count": 23,
      "outputs": []
    },
    {
      "cell_type": "code",
      "metadata": {
        "colab": {
          "base_uri": "https://localhost:8080/"
        },
        "id": "EQ6wBtMAs6pw",
        "outputId": "8725fd11-3b1f-40aa-b6b0-b2004d3ab1b9"
      },
      "source": [
        "# 전이학습 실행\n",
        "model_resnet50 = train_resnet(resnet, criterion, optimizer_ft, exp_lr_scheduler, num_epochs=EPOCH) \n",
        "\n",
        "# 학습 모델 저장\n",
        "torch.save(model_resnet50, '/content/drive/MyDrive/smarcle_face_dataset/splitted/resnet50.pt')"
      ],
      "execution_count": 24,
      "outputs": [
        {
          "output_type": "stream",
          "name": "stdout",
          "text": [
            "-------------- epoch 1 ----------------\n"
          ]
        },
        {
          "output_type": "stream",
          "name": "stderr",
          "text": [
            "/usr/local/lib/python3.7/dist-packages/torch/utils/data/dataloader.py:481: UserWarning: This DataLoader will create 4 worker processes in total. Our suggested max number of worker in current system is 2, which is smaller than what this DataLoader is going to create. Please be aware that excessive worker creation might get DataLoader running slow or even freeze, lower the worker number to avoid potential slowness/freeze if necessary.\n",
            "  cpuset_checked))\n"
          ]
        },
        {
          "output_type": "stream",
          "name": "stdout",
          "text": [
            "train Loss: 1.8395 Acc: 0.354305%\n",
            "val Loss: 5.9120 Acc: 0.262329%\n",
            "Completed in 0m 23s\n",
            "-------------- epoch 2 ----------------\n",
            "train Loss: 1.1274 Acc: 0.583082%\n",
            "val Loss: 2.9846 Acc: 0.379853%\n",
            "Completed in 0m 23s\n",
            "-------------- epoch 3 ----------------\n",
            "train Loss: 0.6875 Acc: 0.763697%\n",
            "val Loss: 2.2409 Acc: 0.413431%\n",
            "Completed in 0m 23s\n",
            "-------------- epoch 4 ----------------\n",
            "train Loss: 0.4127 Acc: 0.854907%\n",
            "val Loss: 2.3673 Acc: 0.435467%\n",
            "Completed in 0m 24s\n",
            "-------------- epoch 5 ----------------\n",
            "train Loss: 0.3461 Acc: 0.880193%\n",
            "val Loss: 2.0922 Acc: 0.477440%\n",
            "Completed in 0m 23s\n",
            "-------------- epoch 6 ----------------\n",
            "train Loss: 0.2411 Acc: 0.917821%\n",
            "val Loss: 2.1199 Acc: 0.498426%\n",
            "Completed in 0m 23s\n",
            "-------------- epoch 7 ----------------\n",
            "train Loss: 0.1848 Acc: 0.939193%\n",
            "val Loss: 2.0433 Acc: 0.523610%\n",
            "Completed in 0m 23s\n",
            "-------------- epoch 8 ----------------\n",
            "train Loss: 0.0929 Acc: 0.965984%\n",
            "val Loss: 1.7528 Acc: 0.552991%\n",
            "Completed in 0m 23s\n",
            "-------------- epoch 9 ----------------\n",
            "train Loss: 0.0496 Acc: 0.982842%\n",
            "val Loss: 1.7377 Acc: 0.575026%\n",
            "Completed in 0m 23s\n",
            "-------------- epoch 10 ----------------\n",
            "train Loss: 0.0374 Acc: 0.983143%\n",
            "val Loss: 1.7435 Acc: 0.566632%\n",
            "Completed in 0m 23s\n",
            "Best val Acc: 0.575026%\n"
          ]
        }
      ]
    },
    {
      "cell_type": "markdown",
      "metadata": {
        "id": "UjkyMbUEuMqi"
      },
      "source": [
        "## 모델 평가"
      ]
    },
    {
      "cell_type": "code",
      "metadata": {
        "colab": {
          "base_uri": "https://localhost:8080/"
        },
        "id": "fPwYDjEHtCXm",
        "outputId": "133e6600-ef6a-42c2-cfef-58f1c9350346"
      },
      "source": [
        "# 평가를 위해 테스트셋 전처리\n",
        "transform_resNet = transforms.Compose([\n",
        "        transforms.Resize([64,64]),  \n",
        "        transforms.RandomCrop(52),  \n",
        "        transforms.ToTensor(),\n",
        "        transforms.Normalize([0.485, 0.456, 0.406], [0.229, 0.224, 0.225]) \n",
        "    ])\n",
        "    \n",
        "test_resNet = ImageFolder(root='/content/drive/MyDrive/smarcle_face_dataset/splitted/test', transform=transform_resNet) \n",
        "test_loader_resNet = torch.utils.data.DataLoader(test_resNet, batch_size=BATCH_SIZE, shuffle=True, num_workers=4)"
      ],
      "execution_count": 25,
      "outputs": [
        {
          "output_type": "stream",
          "name": "stderr",
          "text": [
            "/usr/local/lib/python3.7/dist-packages/torch/utils/data/dataloader.py:481: UserWarning: This DataLoader will create 4 worker processes in total. Our suggested max number of worker in current system is 2, which is smaller than what this DataLoader is going to create. Please be aware that excessive worker creation might get DataLoader running slow or even freeze, lower the worker number to avoid potential slowness/freeze if necessary.\n",
            "  cpuset_checked))\n"
          ]
        }
      ]
    },
    {
      "cell_type": "code",
      "metadata": {
        "id": "w5J0pHBroo66"
      },
      "source": [
        "# 모델 평가\n",
        "import torch.nn.functional as F\n",
        "\n",
        "def evaluate(model, test_loader):\n",
        "    model.eval()  \n",
        "    test_loss = 0 \n",
        "    correct = 0   \n",
        "    \n",
        "    with torch.no_grad(): \n",
        "        for data, target in test_loader:  \n",
        "            data, target = data.to(DEVICE), target.to(DEVICE)  \n",
        "            output = model(data) \n",
        "            \n",
        "            test_loss += F.cross_entropy(output,target, reduction='sum').item() \n",
        " \n",
        "            \n",
        "            pred = output.max(1, keepdim=True)[1]\n",
        "            correct += pred.eq(target.view_as(pred)).sum().item() \n",
        "   \n",
        "    test_loss /= len(test_loader.dataset) \n",
        "    test_accuracy = 100. * correct / len(test_loader.dataset) \n",
        "    return test_loss, test_accuracy"
      ],
      "execution_count": 26,
      "outputs": []
    },
    {
      "cell_type": "code",
      "metadata": {
        "colab": {
          "base_uri": "https://localhost:8080/"
        },
        "id": "Nh6D1dMItJu4",
        "outputId": "fe8ff809-2384-4bb7-93a6-d4f4713f404f"
      },
      "source": [
        "# 전이학습 모델 평가 결과\n",
        "resnet50=torch.load('/content/drive/MyDrive/smarcle_face_dataset/splitted/resnet50.pt') \n",
        "resnet50.eval()  \n",
        "test_loss, test_accuracy = evaluate(resnet50, test_loader_resNet)\n",
        "\n",
        "print('ResNet test acc: {:f}% '.format(test_accuracy))"
      ],
      "execution_count": 27,
      "outputs": [
        {
          "output_type": "stream",
          "name": "stderr",
          "text": [
            "/usr/local/lib/python3.7/dist-packages/torch/utils/data/dataloader.py:481: UserWarning: This DataLoader will create 4 worker processes in total. Our suggested max number of worker in current system is 2, which is smaller than what this DataLoader is going to create. Please be aware that excessive worker creation might get DataLoader running slow or even freeze, lower the worker number to avoid potential slowness/freeze if necessary.\n",
            "  cpuset_checked))\n"
          ]
        },
        {
          "output_type": "stream",
          "name": "stdout",
          "text": [
            "ResNet test acc: 35.881104% \n"
          ]
        }
      ]
    },
    {
      "cell_type": "markdown",
      "metadata": {
        "id": "0m5ZAOlxuWYR"
      },
      "source": [
        "## 실제 이미지 넣고 결과 보기"
      ]
    },
    {
      "cell_type": "code",
      "metadata": {
        "colab": {
          "base_uri": "https://localhost:8080/",
          "height": 264
        },
        "id": "zu4X0mPn9f3O",
        "outputId": "8df92e31-3a8d-4daa-aadf-68c9abf49d33"
      },
      "source": [
        "# Paths for image directory and model\n",
        "import sys\n",
        "from PIL import Image\n",
        "import matplotlib\n",
        "import matplotlib.pyplot as plt\n",
        "\n",
        "IMDIR=sys.argv[1]\n",
        "MODEL='/content/drive/MyDrive/smarcle_face_dataset/splitted/resnet50.pt'\n",
        "\n",
        "# Load the model for testing\n",
        "model = torch.load(MODEL)\n",
        "model.eval()\n",
        "\n",
        "# Class labels for prediction (우리 CLASS에 맞게 수정!)\n",
        "class_names=['female_active', 'female_clean', 'female_cute', 'female_elegant', 'female_natural', 'female_sexy', \n",
        "             'male_active', 'male_clean', 'male_cute', 'male_elegant', 'male_natural', 'male_sexy']\n",
        "\n",
        "# Preprocessing transformations\n",
        "preprocess=transforms.Compose([\n",
        "        transforms.Resize(size=64),\n",
        "        transforms.ToTensor(),\n",
        "        transforms.Normalize([0.485, 0.456, 0.406], [0.229, 0.224, 0.225])\n",
        "    ])\n",
        "\n",
        "# Perform prediction and plot results\n",
        "with torch.no_grad():\n",
        "    img=Image.open('/content/drive/MyDrive/퍼스널컬러/가을웜톤/13..jpg_flip.jpg').convert('RGB') # 각자 가지고 있는 사진 넣어보세요\n",
        "    inputs=preprocess(img).unsqueeze(0).to(DEVICE)\n",
        "    outputs = model(inputs)\n",
        "    _, preds = torch.max(outputs, 1)   \n",
        "    label=class_names[preds]\n",
        "    plt.title(\"Result: \"+label)\n",
        "    plt.axis('off')\n",
        "    plt.imshow(img)"
      ],
      "execution_count": 28,
      "outputs": [
        {
          "output_type": "display_data",
          "data": {
            "image/png": "[encoded data removed]",
            "text/plain": [
              "<Figure size 432x288 with 1 Axes>"
            ]
          },
          "metadata": {
            "needs_background": "light"
          }
        }
      ]
    },
    {
      "cell_type": "markdown",
      "metadata": {
        "id": "OE0D2_e8_7f9"
      },
      "source": [
        "## 코랩에서 웹캠 여는 코드인데 모델에 태우는건 모르겠다"
      ]
    },
    {
      "cell_type": "code",
      "metadata": {
        "id": "XK7cX2VU9KFP"
      },
      "source": [
        "# 참고로 cv2.VideoCapture는 colab에서는 실행 안된다..\n",
        "from IPython.display import display, Javascript\n",
        "from google.colab.output import eval_js\n",
        "from base64 import b64decode\n",
        "\n",
        "def take_photo(filename='photo.jpg', quality=0.8):\n",
        "  js = Javascript('''\n",
        "    async function takePhoto(quality) {\n",
        "      const div = document.createElement('div');\n",
        "      const capture = document.createElement('button');\n",
        "      capture.textContent = 'Capture';\n",
        "      div.appendChild(capture);\n",
        "\n",
        "      const video = document.createElement('video');\n",
        "      video.style.display = 'block';\n",
        "      const stream = await navigator.mediaDevices.getUserMedia({video: true});\n",
        "\n",
        "      document.body.appendChild(div);\n",
        "      div.appendChild(video);\n",
        "      video.srcObject = stream;\n",
        "      await video.play();\n",
        "\n",
        "      // Resize the output to fit the video element.\n",
        "      google.colab.output.setIframeHeight(document.documentElement.scrollHeight, true);\n",
        "\n",
        "      // Wait for Capture to be clicked.\n",
        "      await new Promise((resolve) => capture.onclick = resolve);\n",
        "\n",
        "      const canvas = document.createElement('canvas');\n",
        "      canvas.width = video.videoWidth;\n",
        "      canvas.height = video.videoHeight;\n",
        "      canvas.getContext('2d').drawImage(video, 0, 0);\n",
        "      stream.getVideoTracks()[0].stop();\n",
        "      div.remove();\n",
        "      return canvas.toDataURL('image/jpeg', quality);\n",
        "    }\n",
        "    ''')\n",
        "  display(js)\n",
        "  data = eval_js('takePhoto({})'.format(quality))\n",
        "\n",
        "  binary = b64decode(data.split(',')[1])\n",
        "  with open(filename, 'wb') as f:\n",
        "    f.write(binary)\n",
        "  return filename\n",
        "\n",
        "from IPython.display import Image\n",
        "try:\n",
        "  filename = take_photo()\n",
        "  print('Saved to {}'.format(filename))\n",
        "  \n",
        "  # Show the image which was just taken.\n",
        "  display(Image(filename))\n",
        "\n",
        "except Exception as err:\n",
        "  # Errors will be thrown if the user does not have a webcam or if they do not\n",
        "  # grant the page permission to access it.\n",
        "  print(str(err))"
      ],
      "execution_count": null,
      "outputs": []
    }
  ]
}